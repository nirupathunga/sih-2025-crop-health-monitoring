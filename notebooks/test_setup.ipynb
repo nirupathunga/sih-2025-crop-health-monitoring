import numpy as np
import spectral
import tensorflow as tf
print("Setup OK!")
